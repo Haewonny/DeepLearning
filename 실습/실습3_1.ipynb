{
  "nbformat": 4,
  "nbformat_minor": 0,
  "metadata": {
    "colab": {
      "provenance": []
    },
    "kernelspec": {
      "name": "python3",
      "display_name": "Python 3"
    },
    "language_info": {
      "name": "python"
    },
    "accelerator": "GPU",
    "gpuClass": "standard"
  },
  "cells": [
    {
      "cell_type": "markdown",
      "source": [
        "**인공지능 실습 3_1 - ResNet-18 구현(ResNet-18 with Keras Layers)**"
      ],
      "metadata": {
        "id": "INzFr2a_LNUD"
      }
    },
    {
      "cell_type": "code",
      "source": [
        "import tensorflow as tf"
      ],
      "metadata": {
        "id": "d-8HYLu0tCda"
      },
      "execution_count": 14,
      "outputs": []
    },
    {
      "cell_type": "code",
      "execution_count": 15,
      "metadata": {
        "id": "QiBwGpZCKUyc"
      },
      "outputs": [],
      "source": [
        "class ResBlock(tf.keras.Model):\n",
        "  def __init__(self, filters, downsample=False):\n",
        "    super(ResBlock, self).__init__(name='')\n",
        "                                                                    # 정칙화 2) Weight Decay\n",
        "    self.conv1 = tf.keras.layers.Conv2D(filters, 3, padding='same', kernel_regularizer = tf.keras.regularizers.l2(0.0005)) # padding='same' : input과 output의 사이즈가 같도록 padding을 알아서 넣어줌\n",
        "    self.bn1 = tf.keras.layers.BatchNormalization() # 정칙화 3) Batch Normalization\n",
        "    self.act1 = tf.keras.layers.Activation('relu')\n",
        "\n",
        "    self.conv2 = tf.keras.layers.Conv2D(filters, 3, padding='same', kernel_regularizer = tf.keras.regularizers.l2(0.0005))\n",
        "    self.bn2 = tf.keras.layers.BatchNormalization()\n",
        "    self.act2 = tf.keras.layers.Activation('relu')\n",
        "\n",
        "    self.add = tf.keras.layers.Add()\n",
        " \n",
        "    # downsample 되는 경우 고려\n",
        "    self.downsample = downsample\n",
        "    if self.downsample:\n",
        "      self.ds = tf.keras.layers.Conv2D(filters, strides=2, kernel_size=(1, 1), padding='same', kernel_regularizer = tf.keras.regularizers.l2(0.0005))\n",
        "      self.dsbn = tf.keras.layers.BatchNormalization()\n",
        "  # override\n",
        "  def call(self, inputs): \n",
        "    ds = inputs\n",
        "    if self.downsample:\n",
        "      ds = self.ds(inputs)\n",
        "      ds = self.dsbn(ds)\n",
        "    \n",
        "    x = self.conv1(ds)\n",
        "    x = self.bn1(x)\n",
        "    x = self.act1(x)\n",
        "\n",
        "    x = self.conv2(x)\n",
        "    x = self.bn2(x)\n",
        "    \n",
        "    x = self.add([x, ds])\n",
        "    out = self.act2(x)\n",
        "\n",
        "    return out"
      ]
    },
    {
      "cell_type": "code",
      "source": [
        "class ResNet18(tf.keras.Model):\n",
        "  def __init__(self, num_classes):\n",
        "    super(ResNet18, self).__init__()\n",
        "\n",
        "    self.conv1 = tf.keras.layers.Conv2D(64, strides=2, kernel_size=(7, 7), padding='same', kernel_regularizer = tf.keras.regularizers.l2(0.0005))\n",
        "    self.bn1 = tf.keras.layers.BatchNormalization()\n",
        "\n",
        "    self.act1 = tf.keras.layers.Activation('relu')\n",
        "    self.maxp = tf.keras.layers.MaxPool2D(pool_size=(3, 3), strides=2)\n",
        "\n",
        "    self.conv2_1 = ResBlock(64, downsample=False)\n",
        "    self.conv2_2 = ResBlock(64, downsample=False)\n",
        "\n",
        "    self.conv3_1 = ResBlock(128, downsample=True)\n",
        "    self.conv3_2 = ResBlock(128, downsample=False)\n",
        "\n",
        "    self.conv4_1 = ResBlock(256, downsample=True)\n",
        "    self.conv4_2 = ResBlock(256, downsample=False)\n",
        "\n",
        "    self.conv5_1 = ResBlock(512, downsample=True)\n",
        "    self.conv5_2 = ResBlock(512, downsample=False)\n",
        "\n",
        "    self.avg_pool = tf.keras.layers.GlobalAveragePooling2D()\n",
        "    self.flat = tf.keras.layers.Flatten()\n",
        "    self.dropout = tf.keras.layers.Dropout(0.3) # 정칙화 4) Dropout\n",
        "    self.fc = tf.keras.layers.Dense(num_classes, activation='softmax')\n",
        "\n",
        "  def call(self, inputs):\n",
        "    x = self.conv1(inputs)\n",
        "    x = self.bn1(x)\n",
        "    x = self.act1(x)\n",
        "    x = self.maxp(x)\n",
        "\n",
        "    for resblock in [self.conv2_1, self.conv2_2, self.conv3_1, self.conv3_2, \\\n",
        "                     self.conv4_1, self.conv4_2, self.conv5_1, self.conv5_2]:\n",
        "      x = resblock(x)\n",
        "\n",
        "    x = self.avg_pool(x)\n",
        "    x = self.flat(x)\n",
        "    x = self.dropout(x)\n",
        "    out = self.fc(x)\n",
        "\n",
        "    return out\n",
        "\n",
        "      \n",
        "    "
      ],
      "metadata": {
        "id": "PlDLwlCCtELS"
      },
      "execution_count": 16,
      "outputs": []
    },
    {
      "cell_type": "code",
      "source": [
        "model = ResNet18(10)\n",
        "model.compile(optimizer='adam', loss='categorical_crossentropy', metrics=['accuracy'])"
      ],
      "metadata": {
        "id": "xujfzDHlw6tM"
      },
      "execution_count": 17,
      "outputs": []
    },
    {
      "cell_type": "code",
      "source": [
        "# dataset 준비\n",
        "from keras.datasets import cifar10\n",
        "(X_train, Y_train), (X_test, Y_test) = cifar10.load_data()"
      ],
      "metadata": {
        "id": "QB6jiCjNxG3D"
      },
      "execution_count": 18,
      "outputs": []
    },
    {
      "cell_type": "code",
      "source": [
        "import matplotlib.pyplot as plt\n",
        "plt.imshow(X_train[153])"
      ],
      "metadata": {
        "colab": {
          "base_uri": "https://localhost:8080/",
          "height": 284
        },
        "id": "Jtc-VP5Mx45a",
        "outputId": "e068dc4a-b50f-47f2-99ab-c90aaa3b9679"
      },
      "execution_count": 19,
      "outputs": [
        {
          "output_type": "execute_result",
          "data": {
            "text/plain": [
              "<matplotlib.image.AxesImage at 0x7f2e8fa233a0>"
            ]
          },
          "metadata": {},
          "execution_count": 19
        },
        {
          "output_type": "display_data",
          "data": {
            "text/plain": [
              "<Figure size 432x288 with 1 Axes>"
            ],
            "image/png": "[encoded data removed]"
          },
          "metadata": {
            "needs_background": "light"
          }
        }
      ]
    },
    {
      "cell_type": "code",
      "source": [
        "# preprocessing\n",
        "X_train = X_train.astype('float32') # 형변환\n",
        "X_test = X_test.astype('float32')\n",
        "\n",
        "X_train = X_train / 255.0\n",
        "X_test = X_test / 255.0"
      ],
      "metadata": {
        "id": "BieZ4G1ayCCS"
      },
      "execution_count": 20,
      "outputs": []
    },
    {
      "cell_type": "code",
      "source": [
        "# validation set 준비\n",
        "from sklearn.model_selection import train_test_split\n",
        "\n",
        "X_train, X_val, Y_train, Y_val = train_test_split(X_train, Y_train, test_size=0.2, shuffle=True)"
      ],
      "metadata": {
        "id": "7J667EyPyjai"
      },
      "execution_count": 21,
      "outputs": []
    },
    {
      "cell_type": "code",
      "source": [
        "# one-hot vector 만들기\n",
        "from sklearn.preprocessing import OneHotEncoder\n",
        "\n",
        "encoder = OneHotEncoder()\n",
        "encoder.fit(Y_train)\n",
        "\n",
        "Y_train = encoder.transform(Y_train).toarray()\n",
        "Y_val = encoder.transform(Y_val).toarray()\n",
        "Y_test = encoder.transform(Y_test).toarray()"
      ],
      "metadata": {
        "id": "uBGbLtBSy8cp"
      },
      "execution_count": 22,
      "outputs": []
    },
    {
      "cell_type": "code",
      "source": [
        "# 정칙화 1) Data Augmentation\n",
        "from keras.preprocessing.image import ImageDataGenerator\n",
        "\n",
        "aug = ImageDataGenerator(horizontal_flip=True, width_shift_range=0.05, height_shift_range=0.05)\n",
        "aug.fit(X_train)"
      ],
      "metadata": {
        "id": "W5Q8MiQRIqvQ"
      },
      "execution_count": 23,
      "outputs": []
    },
    {
      "cell_type": "code",
      "source": [
        "# training\n",
        "model.fit(aug.flow(X_train, Y_train, batch_size = 256), batch_size=256, epochs=10, validation_data=(X_val, Y_val))"
      ],
      "metadata": {
        "colab": {
          "base_uri": "https://localhost:8080/"
        },
        "id": "cyDwtT1S0zgl",
        "outputId": "e45f5b1f-41f2-4d1f-9f47-f5a705267f5e"
      },
      "execution_count": 24,
      "outputs": [
        {
          "output_type": "stream",
          "name": "stdout",
          "text": [
            "Epoch 1/10\n",
            "157/157 [==============================] - 23s 127ms/step - loss: 3.1790 - accuracy: 0.3988 - val_loss: 4.0922 - val_accuracy: 0.1440\n",
            "Epoch 2/10\n",
            "157/157 [==============================] - 19s 122ms/step - loss: 2.5015 - accuracy: 0.5265 - val_loss: 3.8139 - val_accuracy: 0.1888\n",
            "Epoch 3/10\n",
            "157/157 [==============================] - 19s 124ms/step - loss: 2.1720 - accuracy: 0.5861 - val_loss: 3.0396 - val_accuracy: 0.3422\n",
            "Epoch 4/10\n",
            "157/157 [==============================] - 20s 126ms/step - loss: 1.9078 - accuracy: 0.6265 - val_loss: 2.4207 - val_accuracy: 0.4650\n",
            "Epoch 5/10\n",
            "157/157 [==============================] - 19s 123ms/step - loss: 1.7529 - accuracy: 0.6429 - val_loss: 1.7139 - val_accuracy: 0.6329\n",
            "Epoch 6/10\n",
            "157/157 [==============================] - 19s 123ms/step - loss: 1.5507 - accuracy: 0.6794 - val_loss: 1.7956 - val_accuracy: 0.5940\n",
            "Epoch 7/10\n",
            "157/157 [==============================] - 19s 123ms/step - loss: 1.4166 - accuracy: 0.6970 - val_loss: 1.5297 - val_accuracy: 0.6447\n",
            "Epoch 8/10\n",
            "157/157 [==============================] - 19s 124ms/step - loss: 1.3257 - accuracy: 0.7096 - val_loss: 1.4722 - val_accuracy: 0.6476\n",
            "Epoch 9/10\n",
            "157/157 [==============================] - 19s 123ms/step - loss: 1.2377 - accuracy: 0.7254 - val_loss: 1.4812 - val_accuracy: 0.6393\n",
            "Epoch 10/10\n",
            "157/157 [==============================] - 19s 123ms/step - loss: 1.1680 - accuracy: 0.7382 - val_loss: 1.4225 - val_accuracy: 0.6446\n"
          ]
        },
        {
          "output_type": "execute_result",
          "data": {
            "text/plain": [
              "<keras.callbacks.History at 0x7f2e8f9d60a0>"
            ]
          },
          "metadata": {},
          "execution_count": 24
        }
      ]
    },
    {
      "cell_type": "code",
      "source": [
        "model.evaluate(X_test, Y_test) # accuracy를 높이기 위해서는 regularization 필요! ex. batch normalization"
      ],
      "metadata": {
        "colab": {
          "base_uri": "https://localhost:8080/"
        },
        "id": "bfQoygeFEUZi",
        "outputId": "68760840-327a-478f-cab7-673dff8dc1c3"
      },
      "execution_count": 25,
      "outputs": [
        {
          "output_type": "stream",
          "name": "stdout",
          "text": [
            "313/313 [==============================] - 3s 9ms/step - loss: 1.4491 - accuracy: 0.6386\n"
          ]
        },
        {
          "output_type": "execute_result",
          "data": {
            "text/plain": [
              "[1.4491324424743652, 0.6385999917984009]"
            ]
          },
          "metadata": {},
          "execution_count": 25
        }
      ]
    },
    {
      "cell_type": "code",
      "source": [
        "model.summary()"
      ],
      "metadata": {
        "colab": {
          "base_uri": "https://localhost:8080/"
        },
        "id": "lc_mGNuHEgw8",
        "outputId": "896c8ab5-d6ac-4f13-ae40-976079809ba4"
      },
      "execution_count": 26,
      "outputs": [
        {
          "output_type": "stream",
          "name": "stdout",
          "text": [
            "Model: \"res_net18_1\"\n",
            "_________________________________________________________________\n",
            " Layer (type)                Output Shape              Param #   \n",
            "=================================================================\n",
            " conv2d_20 (Conv2D)          multiple                  9472      \n",
            "                                                                 \n",
            " batch_normalization_20 (Bat  multiple                 256       \n",
            " chNormalization)                                                \n",
            "                                                                 \n",
            " activation_17 (Activation)  multiple                  0         \n",
            "                                                                 \n",
            " max_pooling2d_1 (MaxPooling  multiple                 0         \n",
            " 2D)                                                             \n",
            "                                                                 \n",
            "  (ResBlock)                 multiple                  74368     \n",
            "                                                                 \n",
            "  (ResBlock)                 multiple                  74368     \n",
            "                                                                 \n",
            "  (ResBlock)                 multiple                  305024    \n",
            "                                                                 \n",
            "  (ResBlock)                 multiple                  296192    \n",
            "                                                                 \n",
            "  (ResBlock)                 multiple                  1216256   \n",
            "                                                                 \n",
            "  (ResBlock)                 multiple                  1182208   \n",
            "                                                                 \n",
            "  (ResBlock)                 multiple                  4857344   \n",
            "                                                                 \n",
            "  (ResBlock)                 multiple                  4723712   \n",
            "                                                                 \n",
            " global_average_pooling2d_1   multiple                 0         \n",
            " (GlobalAveragePooling2D)                                        \n",
            "                                                                 \n",
            " flatten_1 (Flatten)         multiple                  0         \n",
            "                                                                 \n",
            " dropout_1 (Dropout)         multiple                  0         \n",
            "                                                                 \n",
            " dense_1 (Dense)             multiple                  5130      \n",
            "                                                                 \n",
            "=================================================================\n",
            "Total params: 12,744,330\n",
            "Trainable params: 12,734,730\n",
            "Non-trainable params: 9,600\n",
            "_________________________________________________________________\n"
          ]
        }
      ]
    }
  ]
}